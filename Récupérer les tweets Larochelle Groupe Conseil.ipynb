{
 "cells": [
  {
   "cell_type": "code",
   "execution_count": null,
   "metadata": {},
   "outputs": [],
   "source": [
    "################ Twitter Larochelle ################\n",
    "\n",
    "# Credentials, important : depuis juillet 2018, il est necessaire de faire une demande à Twitter pour accéder à son API.\n",
    "access_token = ''\n",
    "access_token_secret = ''\n",
    "consumer_key = ''\n",
    "consumer_secret = ''\n",
    "\n",
    "auth = tweepy.OAuthHandler(consumer_key,consumer_secret)\n",
    "auth.set_access_token(access_token,access_token_secret)\n",
    "\n",
    "# Fichier de stockage des tweets @LarochelleGC\n",
    "class MyStreamListener(tweepy_StremListener):\n",
    "    def __init__(self, api=None):\n",
    "        super(MyStreamListener,self).__init__()\n",
    "        self.file = open(\"tweetsLarochelleGC.txt\",\"w\")\n",
    "\n",
    "# Collecte et stock les tweets\n",
    "    def on status(self,status):\n",
    "        tweet=status._json\n",
    "        self.file.write(json.dumps(tweet)+ '/n')\n",
    "        tweet_list.append(status)\n",
    "        \n",
    "        # Récupère les 10000 premiers tweets\n",
    "        self.num_tweets +=1\n",
    "        if self.num_tweets < 10000:\n",
    "            return True\n",
    "        else:\n",
    "            return False\n",
    "        self.file.close()\n",
    "        \n",
    "# Authentification à twitter avec compte developpeur\n",
    "L = MyStreamListener()\n",
    "stream = tweepy.Stream(auth,L)\n",
    "\n",
    "# Capture des tweets LarochelleGC\n",
    "stream.filter(track=['LarochelleGC','LGC','Larochelle Groupe Conseil'])"
   ]
  }
 ],
 "metadata": {
  "kernelspec": {
   "display_name": "Python 3",
   "language": "python",
   "name": "python3"
  },
  "language_info": {
   "codemirror_mode": {
    "name": "ipython",
    "version": 3
   },
   "file_extension": ".py",
   "mimetype": "text/x-python",
   "name": "python",
   "nbconvert_exporter": "python",
   "pygments_lexer": "ipython3",
   "version": "3.6.5"
  }
 },
 "nbformat": 4,
 "nbformat_minor": 2
}
